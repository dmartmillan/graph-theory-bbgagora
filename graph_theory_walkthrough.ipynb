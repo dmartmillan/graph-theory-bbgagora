{
 "cells": [
  {
   "cell_type": "markdown",
   "metadata": {
    "pycharm": {
     "name": "#%% md\n"
    }
   },
   "source": [
    "# Graph theory - BBGAgora\n",
    "On this notebook we will be able to get a first touch with [NetworkX](https://networkx.org/) (Python package for graphs) and [Neo4j](https://neo4j.com/)\n",
    "(a graph database). Also, we will see some graphs concepts that can be useful in case on some data analysis. \n",
    "\n",
    "We will use *OV.txt* file, somatic mutation data file, extracted and modified from [pyNBS: a Python implementation for network-based stratification of tumor mutations](https://www.ncbi.nlm.nih.gov/pmc/articles/PMC6084608/) paper.\n",
    "\n",
    "Described as follows:\n",
    "\n",
    "__Sample__ | __Gene__\n",
    "\n",
    "TCGA-04-1331 | ABHD13\n",
    "\n",
    "TCGA-04-1331 | ACTRT1\n",
    "\n",
    "TCGA-04-1331 | AHNAK2\n",
    "\n",
    "....\n",
    "__________"
   ]
  },
  {
   "cell_type": "markdown",
   "metadata": {},
   "source": [
    "## NetworkX"
   ]
  },
  {
   "cell_type": "code",
   "execution_count": 3,
   "metadata": {
    "pycharm": {
     "name": "#%%\n"
    }
   },
   "outputs": [
    {
     "name": "stdout",
     "output_type": "stream",
     "text": [
      "Requirement already satisfied: networkx in /home/dmartinez/anaconda3/envs/graph-theory-bggagora/lib/python3.9/site-packages (2.6.3)\n",
      "Cloning into 'graph-theory-bbgagora'...\n",
      "remote: Enumerating objects: 18, done.\u001B[K\n",
      "remote: Counting objects: 100% (18/18), done.\u001B[K\n",
      "remote: Compressing objects: 100% (15/15), done.\u001B[K\n",
      "remote: Total 18 (delta 2), reused 10 (delta 2), pack-reused 0\u001B[K\n",
      "Unpacking objects: 100% (18/18), 487.41 KiB | 1.42 MiB/s, done.\n"
     ]
    }
   ],
   "source": [
    "# Installs & imports\n",
    "!git clone https://github.com/dmartmillan/graph-theory-bbgagora.git\n",
    "!pip install networkx\n",
    "import csv\n",
    "import networkx as nx\n",
    "\n",
    "import os\n",
    "os.chdir('./graph-theory-bbgagora')"
   ]
  },
  {
   "cell_type": "code",
   "execution_count": null,
   "metadata": {
    "pycharm": {
     "name": "#%%\n"
    }
   },
   "outputs": [],
   "source": [
    "color_map = []\n",
    "G = nx.Graph()\n",
    "with open('OV.txt', 'r') as file:\n",
    "    reader = csv.reader(file, delimiter = '\\t')\n",
    "    for i, row in enumerate(reader):\n",
    "        if row[0] not in G:\n",
    "            color_map.append(\"blue\")\n",
    "        G.add_node(row[0], type=\"sample\")\n",
    "        if row[1] not in G:\n",
    "            color_map.append(\"green\")\n",
    "        G.add_node(row[1], type=\"gene\")\n",
    "        G.add_edge(row[0], row[1])\n",
    "\n",
    "nx.draw(G, node_color=color_map)"
   ]
  },
  {
   "cell_type": "code",
   "execution_count": 12,
   "metadata": {
    "pycharm": {
     "name": "#%%\n"
    }
   },
   "outputs": [
    {
     "name": "stdout",
     "output_type": "stream",
     "text": [
      "Number of nodes: 287\n",
      "Number of edges: 294\n"
     ]
    }
   ],
   "source": [
    "print(f\"Number of nodes: {G.number_of_nodes()} - Sample and Genes\")\n",
    "print(f\"Number of edges: {G.number_of_edges()} - Iteraction between Sample - Gene\")"
   ]
  },
  {
   "cell_type": "markdown",
   "metadata": {},
   "source": [
    "### Degree\n",
    "Number of edges that incident of the vertex. \n",
    "\n",
    "With that we can calculate: Which gene has the most interaction with samples? "
   ]
  },
  {
   "cell_type": "code",
   "execution_count": 17,
   "metadata": {
    "pycharm": {
     "name": "#%%\n"
    }
   },
   "outputs": [
    {
     "name": "stdout",
     "output_type": "stream",
     "text": [
      "Counting the degree of each gene.\n",
      "The genes that appears most in the samples are (from a list of 258 genes):\n",
      "Gene: TP53, Interactions: 21\n",
      "Gene: TTN, Interactions: 4\n",
      "Gene: ACACB, Interactions: 3\n",
      "Gene: ZFHX4, Interactions: 3\n",
      "Gene: ANKRD30A, Interactions: 3\n"
     ]
    }
   ],
   "source": [
    "print(\"Counting the degree of each gene.\")\n",
    "attributes = nx.get_node_attributes(G, \"type\")\n",
    "degrees_by_gene = [(n, G.degree(n)) for n in G.nodes() if attributes[n] == \"gene\"]\n",
    "result = sorted(degrees_by_gene, key=lambda x: -x[1])\n",
    "\n",
    "print(f\"The genes that are more linked with the samples are (from a list of {len(result)} genes):\")\n",
    "for i in range(5):\n",
    "    print(f\"Gene: {result[i][0]}, Interactions: {result[i][1]}\")"
   ]
  },
  {
   "cell_type": "markdown",
   "metadata": {},
   "source": [
    "### Some other fucntions\n",
    "\n",
    "__Radius__: the minimum among all the maximus distances between a vertex to all other vertices. \n",
    "\n",
    "__Diameter__: the maximum distance between the pair of vertices.\n",
    "\n",
    "__Center__: consists of all the vertices whose eccentricity is minimum.\n",
    "\n",
    "__Density__: how many relationships that exists between nodes compared to how many relationships are possible."
   ]
  },
  {
   "cell_type": "code",
   "execution_count": 48,
   "metadata": {
    "pycharm": {
     "name": "#%%\n"
    }
   },
   "outputs": [
    {
     "name": "stdout",
     "output_type": "stream",
     "text": [
      "Radius: 4\n",
      "Diameter: 8\n",
      "Center: ['TP53']\n",
      "Density: 0.007163568139177895\n"
     ]
    }
   ],
   "source": [
    "print(f\"Radius: {nx.radius(G)}\")\n",
    "print(f\"Diameter: {nx.diameter(G)}\")\n",
    "print(f\"Center: {nx.center(G)}\")\n",
    "print(f\"Density: {nx.density(G)}\")"
   ]
  },
  {
   "cell_type": "markdown",
   "metadata": {},
   "source": [
    "### Clustering coefficient\n",
    "\n",
    "Study the probability that two neighbours of one node, also can be linked.\n",
    "\n",
    "![Clustering coefficient](./clustering_coefficient.png)\n",
    "\n",
    "If the neighborhood is fully connected, the clustering coefficient is 1 and a value close to 0 means that there are hardly any connections in the neighborhood."
   ]
  },
  {
   "cell_type": "code",
   "execution_count": 26,
   "metadata": {},
   "outputs": [
    {
     "name": "stdout",
     "output_type": "stream",
     "text": [
      "0.0\n"
     ]
    }
   ],
   "source": [
    "print(nx.average_clustering(G))"
   ]
  },
  {
   "cell_type": "markdown",
   "metadata": {},
   "source": [
    "_________________"
   ]
  },
  {
   "cell_type": "markdown",
   "metadata": {},
   "source": [
    "## Neo4j\n",
    "\n",
    "We will see now how can we connect to a Neo4j database and interact with it. \n",
    "\n",
    "Also, we can be use Neo4j browser with this website https://9be4e5bb69415782b3de951eaf7f8f30.neo4jsandbox.com/\n",
    "\n",
    "The link will expire on 29 Oct @ 9:22pm\n",
    "\n",
    "__Username__: neo4j\n",
    "\n",
    "__Password__: bbglab"
   ]
  },
  {
   "cell_type": "code",
   "execution_count": 1,
   "metadata": {},
   "outputs": [
    {
     "name": "stdout",
     "output_type": "stream",
     "text": [
      "Requirement already satisfied: neo4j-driver in /home/dmartinez/anaconda3/envs/graph-theory-bggagora/lib/python3.9/site-packages (4.3.7)\r\n",
      "Requirement already satisfied: pytz in /home/dmartinez/anaconda3/envs/graph-theory-bggagora/lib/python3.9/site-packages (from neo4j-driver) (2021.3)\r\n"
     ]
    }
   ],
   "source": [
    "!pip install neo4j-driver\n",
    "from neo4j import GraphDatabase, basic_auth"
   ]
  },
  {
   "cell_type": "code",
   "execution_count": 6,
   "metadata": {},
   "outputs": [
    {
     "name": "stdout",
     "output_type": "stream",
     "text": [
      "Total of samples: 29\n",
      "Total of genes: 258\n"
     ]
    }
   ],
   "source": [
    "driver = GraphDatabase.driver(\n",
    "  \"bolt://3.237.67.250:7687\",\n",
    "  auth=basic_auth(\"neo4j\", \"bbglab\"))\n",
    "\n",
    "with driver.session() as session:\n",
    "    result = session.run(\"MATCH (a:SAMPLE) RETURN COUNT(a) AS SAMPLES\")\n",
    "    for r in result:\n",
    "        print(f\"Total of samples: {r['SAMPLES']}\")\n",
    "    result = session.run(\"MATCH (a:GENE) RETURN COUNT(a) AS GENES\")\n",
    "    for r in result:\n",
    "        print(f\"Total of genes: {r['GENES']}\")"
   ]
  },
  {
   "cell_type": "code",
   "execution_count": 14,
   "metadata": {},
   "outputs": [
    {
     "name": "stdout",
     "output_type": "stream",
     "text": [
      "Total of samples linked with TP53: 21\n"
     ]
    }
   ],
   "source": [
    "with driver.session() as session:\n",
    "    result = session.run(\"MATCH (a:GENE)--(b:SAMPLE) WHERE a.gene = \\\"TP53\\\" RETURN COUNT(b) AS SAMPLES\")\n",
    "    for r in result:\n",
    "        print(f\"Total of samples linked with TP53: {r['SAMPLES']}\")"
   ]
  },
  {
   "cell_type": "code",
   "execution_count": null,
   "metadata": {},
   "outputs": [],
   "source": [
    "driver.close()"
   ]
  }
 ],
 "metadata": {
  "kernelspec": {
   "display_name": "Python 3 (ipykernel)",
   "language": "python",
   "name": "python3"
  },
  "language_info": {
   "codemirror_mode": {
    "name": "ipython",
    "version": 3
   },
   "file_extension": ".py",
   "mimetype": "text/x-python",
   "name": "python",
   "nbconvert_exporter": "python",
   "pygments_lexer": "ipython3",
   "version": "3.9.7"
  }
 },
 "nbformat": 4,
 "nbformat_minor": 1
}